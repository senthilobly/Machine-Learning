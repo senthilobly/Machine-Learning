{
  "nbformat": 4,
  "nbformat_minor": 0,
  "metadata": {
    "colab": {
      "provenance": []
    },
    "kernelspec": {
      "name": "python3",
      "display_name": "Python 3"
    },
    "language_info": {
      "name": "python"
    }
  },
  "cells": [
    {
      "cell_type": "markdown",
      "source": [
        "# Core Linear Algebra Operations\n",
        "**These operations form the computational backbone of machine learning models.**"
      ],
      "metadata": {
        "id": "MKtjc90DuWEq"
      }
    },
    {
      "cell_type": "markdown",
      "source": [
        "**1. Addition / Subtraction**\n",
        "\n",
        "Description: Element-wise addition or subtraction of matrices/vectors of the same shape.\n",
        "\n",
        "Math:\n",
        "C = A + B or C = A - B\n",
        "\n",
        "Use in ML: Combine gradients, loss updates, feature scaling."
      ],
      "metadata": {
        "id": "YlrZRXEjucEP"
      }
    },
    {
      "cell_type": "code",
      "source": [
        "# Python Equivalent\n",
        "import numpy as np\n",
        "A = np.array([[1, 2], [3, 4]])\n",
        "B = np.array([[5, 6], [7, 8]])\n",
        "c_add = A + B\n",
        "c_sub = A - B\n",
        "print(\"Matrix Addition : \\n{}, \\nMatrix Subtraction: \\n{}\".format(c_add,c_sub))"
      ],
      "metadata": {
        "colab": {
          "base_uri": "https://localhost:8080/"
        },
        "id": "_tZSHMMMuqw5",
        "outputId": "70d4aad4-c95d-4a48-f71b-231fc8b40787"
      },
      "execution_count": 59,
      "outputs": [
        {
          "output_type": "stream",
          "name": "stdout",
          "text": [
            "Matrix Addition : \n",
            "[[ 6  8]\n",
            " [10 12]], \n",
            "Matrix Subtraction: \n",
            "[[-4 -4]\n",
            " [-4 -4]]\n"
          ]
        }
      ]
    },
    {
      "cell_type": "markdown",
      "source": [
        "**2. Scalar Multiplication**\n",
        "Description: Multiply every element of a vector or matrix by a scalar value.\n",
        "\n",
        "Math:\n",
        "\n",
        "𝑐\n",
        "𝐴\n",
        "=\n",
        "𝜆\n",
        "⋅\n",
        "𝐴\n",
        "\n",
        "Use in ML: Learning rate scaling, normalization, weighting."
      ],
      "metadata": {
        "id": "afouiZTxxfVr"
      }
    },
    {
      "cell_type": "code",
      "source": [
        "# Python Equivalent\n",
        "A = np.array([[1, 2], [3, 4]])\n",
        "C = 2 * A\n",
        "print(\"Scalar Multiplication of A:\",C)"
      ],
      "metadata": {
        "colab": {
          "base_uri": "https://localhost:8080/"
        },
        "id": "K_VfLFW5xpYt",
        "outputId": "ab03f3cc-d6c8-4939-a4dd-bbe81fb9e1ca"
      },
      "execution_count": 48,
      "outputs": [
        {
          "output_type": "stream",
          "name": "stdout",
          "text": [
            "Scalar Multiplication of A: [[2 4]\n",
            " [6 8]]\n"
          ]
        }
      ]
    },
    {
      "cell_type": "markdown",
      "source": [
        "**3. Matrix Multiplication**\n",
        "\n",
        "Description:  Multiply row of A with column of B\n",
        "\n",
        "Formula: If A is (m×n), B is (n×p), then C = A × B is (m×p)\n",
        "\n",
        "Example:\n",
        "\n",
        "𝐴\n",
        "=\n",
        "[\n",
        "1\n",
        "2\n",
        "3\n",
        "4\n",
        "]\n",
        ",\n",
        "𝐵\n",
        "=\n",
        "[\n",
        "5\n",
        "6\n",
        "]\n",
        "⇒\n",
        "𝐶\n",
        "=\n",
        "𝐴\n",
        "⋅\n",
        "𝐵\n",
        "=\n",
        "[\n",
        "(\n",
        "1\n",
        "×\n",
        "5\n",
        "+\n",
        "2\n",
        "×\n",
        "6\n",
        ")\n",
        "(\n",
        "3\n",
        "×\n",
        "5\n",
        "+\n",
        "4\n",
        "×\n",
        "6\n",
        ")\n",
        "]\n",
        "=\n",
        "[\n",
        "17\n",
        "39\n",
        "]\n",
        "\n",
        "\n",
        "Use in ML: Learning rate scaling, normalization, weighting."
      ],
      "metadata": {
        "id": "K8AmZb5mx1w6"
      }
    },
    {
      "cell_type": "code",
      "source": [
        "# Python Equivalent\n",
        "A = np.array([[1, 2], [3, 4]])\n",
        "B = np.array([[2, 0], [1, 2]])\n",
        "C = A @ B  # or np.dot(A, B)\n",
        "\n",
        "print(\"Matrix Multiplication:/n\", C)"
      ],
      "metadata": {
        "colab": {
          "base_uri": "https://localhost:8080/"
        },
        "id": "2IB-TKHEyE7O",
        "outputId": "13df1c44-b55d-4604-e445-68b67542b160"
      },
      "execution_count": 49,
      "outputs": [
        {
          "output_type": "stream",
          "name": "stdout",
          "text": [
            "Matrix Multiplication:/n [[ 4  4]\n",
            " [10  8]]\n"
          ]
        }
      ]
    },
    {
      "cell_type": "markdown",
      "source": [
        "**4. Dot Product (Inner Product)**\n",
        "\n",
        "Description: Multiply two vectors element-wise and sum the result.\n",
        "\n",
        "Math:\n",
        "\n",
        "𝑎\n",
        "⃗\n",
        "⋅\n",
        "𝑏\n",
        "⃗\n",
        "=\n",
        "∑\n",
        "𝑎\n",
        "𝑖\n",
        "𝑏\n",
        "𝑖\n",
        "\n",
        "Example:\n",
        "\n",
        "𝑎\n",
        "=\n",
        "[\n",
        "1\n",
        ",\n",
        "2\n",
        "]\n",
        ",\n",
        "𝑏\n",
        "=\n",
        "[\n",
        "3\n",
        ",\n",
        "4\n",
        "]\n",
        "⇒\n",
        "1\n",
        "×\n",
        "3\n",
        "+\n",
        "2\n",
        "×\n",
        "4\n",
        "=\n",
        "11\n",
        "\n",
        "Use in ML: Similarity, projections, angle between vectors.\n"
      ],
      "metadata": {
        "id": "rIKSZX1IydaX"
      }
    },
    {
      "cell_type": "code",
      "source": [
        "# Python Equivalent\n",
        "a = np.array([1, 2, 3])\n",
        "b = np.array([4, 5, 6])\n",
        "dot = np.dot(a, b)\n",
        "\n",
        "print(\"Dot product Inner:\\n\",dot)"
      ],
      "metadata": {
        "colab": {
          "base_uri": "https://localhost:8080/"
        },
        "id": "wfgoZMcMyk7J",
        "outputId": "9f6c45d0-c0fb-47f9-bc5f-067855026587"
      },
      "execution_count": 50,
      "outputs": [
        {
          "output_type": "stream",
          "name": "stdout",
          "text": [
            "Dot product Inner:\n",
            " 32\n"
          ]
        }
      ]
    },
    {
      "cell_type": "markdown",
      "source": [
        "**5. Outer Product**\n",
        "\n",
        "Description: Multiply a column vector by a row vector to get a matrix. All combinations of aᵢ * bⱼ\n",
        "\n",
        "Math:\n",
        "\n",
        "𝑎\n",
        "⃗\n",
        "⊗\n",
        "𝑏\n",
        "⃗\n",
        "=\n",
        "𝑎\n",
        "𝑏\n",
        "𝑇\n",
        "\n",
        "Example:\n",
        "\n",
        "𝑎\n",
        "=\n",
        "[\n",
        "1\n",
        ",\n",
        "2\n",
        "]\n",
        ",\n",
        "𝑏\n",
        "=\n",
        "[\n",
        "3\n",
        ",\n",
        "4\n",
        "]\n",
        "⇒\n",
        "[\n",
        "1\n",
        "×\n",
        "3\n",
        "1\n",
        "×\n",
        "4\n",
        "2\n",
        "×\n",
        "3\n",
        "2\n",
        "×\n",
        "4\n",
        "]\n",
        "=\n",
        "[\n",
        "3\n",
        "4\n",
        "6\n",
        "8\n",
        "]\n",
        "\n",
        "\n",
        "Use in ML: Covariance matrices, tensor construction, feature interaction."
      ],
      "metadata": {
        "id": "G7-ZomSIy02o"
      }
    },
    {
      "cell_type": "code",
      "source": [
        "# Python Equivalent\n",
        "a = np.array([1, 2])\n",
        "b = np.array([3, 4])\n",
        "outer = np.outer(a, b)\n",
        "\n",
        "print(\"Outer Product:\\n\", outer)"
      ],
      "metadata": {
        "colab": {
          "base_uri": "https://localhost:8080/"
        },
        "id": "PwJWpopOy97o",
        "outputId": "0c8e2b81-73d5-4c03-e785-ef88ab31eb96"
      },
      "execution_count": 53,
      "outputs": [
        {
          "output_type": "stream",
          "name": "stdout",
          "text": [
            "Outer Product:\n",
            " [[3 4]\n",
            " [6 8]]\n"
          ]
        }
      ]
    },
    {
      "cell_type": "markdown",
      "source": [
        "**6. Hadamard Product**\n",
        "Description: Element-wise multiplication (not matrix multiplication). Multiply element-by-element (must be same shape)\n",
        "Math:\n",
        "\n",
        "𝐶\n",
        "=\n",
        "𝐴\n",
        "∘\n",
        "𝐵\n",
        ",\n",
        "𝐶\n",
        "𝑖\n",
        "𝑗\n",
        "=\n",
        "𝐴\n",
        "𝑖\n",
        "𝑗\n",
        "⋅\n",
        "𝐵\n",
        "𝑖\n",
        "𝑗\n",
        "\n",
        "Example:\n",
        "\n",
        "𝐴\n",
        "=\n",
        "[\n",
        "1\n",
        "2\n",
        "3\n",
        "4\n",
        "]\n",
        ",\n",
        "𝐵\n",
        "=\n",
        "[\n",
        "5\n",
        "6\n",
        "7\n",
        "8\n",
        "]\n",
        "⇒\n",
        "𝐴\n",
        "∘\n",
        "𝐵\n",
        "=\n",
        "[\n",
        "5\n",
        "12\n",
        "21\n",
        "32\n",
        "]\n",
        "\n",
        "\n",
        "Use in ML: Attention models, dropout masks, gate operations in RNNs."
      ],
      "metadata": {
        "id": "5n7QgUygzSXS"
      }
    },
    {
      "cell_type": "code",
      "source": [
        "# Python Equivalent\n",
        "A = np.array([[1, 2], [3, 4]])\n",
        "B = np.array([[5, 6], [7, 8]])\n",
        "hadamard = A * B\n",
        "\n",
        "print(\"Hadamard:\\n\", hadamard)"
      ],
      "metadata": {
        "colab": {
          "base_uri": "https://localhost:8080/"
        },
        "id": "qDuFeXLwzbJQ",
        "outputId": "1ef52ce3-9b8a-4e93-b035-9de7f20d01da"
      },
      "execution_count": 54,
      "outputs": [
        {
          "output_type": "stream",
          "name": "stdout",
          "text": [
            "Hadamard:\n",
            " [[ 5 12]\n",
            " [21 32]]\n"
          ]
        }
      ]
    },
    {
      "cell_type": "markdown",
      "source": [
        "**7. Transpose**\n",
        "\n",
        "Description: Flips a matrix over its diagonal; rows become columns.  Flip rows and columns\n",
        "\n",
        "Math:\n",
        "\n",
        "𝐴\n",
        "𝑇\n",
        "\n",
        "Example:\n",
        "\n",
        "𝐴\n",
        "=\n",
        "[\n",
        "1\n",
        "2\n",
        "3\n",
        "4\n",
        "]\n",
        "⇒\n",
        "𝐴\n",
        "𝑇\n",
        "=\n",
        "[\n",
        "1\n",
        "3\n",
        "2\n",
        "4\n",
        "]\n",
        "\n",
        "\n",
        "Use in ML: Change data orientation, gradient computation, symmetry checks."
      ],
      "metadata": {
        "id": "JyqokKm9zl4y"
      }
    },
    {
      "cell_type": "code",
      "source": [
        "# Python Equivalent\n",
        "A = np.array([[1, 2], [3, 4]])\n",
        "A_T = A.T\n",
        "\n",
        "print(\"Transpose Matrix:\\n\", A_T)"
      ],
      "metadata": {
        "colab": {
          "base_uri": "https://localhost:8080/"
        },
        "id": "1AjeLnDmzr2T",
        "outputId": "9680a144-4606-4a4f-dae2-bfb321b6086b"
      },
      "execution_count": 55,
      "outputs": [
        {
          "output_type": "stream",
          "name": "stdout",
          "text": [
            "Transpose Matrix:\n",
            " [[1 3]\n",
            " [2 4]]\n"
          ]
        }
      ]
    },
    {
      "cell_type": "markdown",
      "source": [
        "**8. Inverse**\n",
        "\n",
        "Description: Matrix inverse such that A⁻¹ · A = I.\n",
        "\n",
        "Math:\n",
        "\n",
        "𝐴\n",
        "−\n",
        "1\n",
        "⋅\n",
        "𝐴\n",
        "=\n",
        "𝐼\n",
        "\n",
        "Formula (2x2):\n",
        "\n",
        "𝐴\n",
        "=\n",
        "[\n",
        "𝑎\n",
        "𝑏\n",
        "𝑐\n",
        "𝑑\n",
        "]\n",
        ",\n",
        "𝐴\n",
        "−\n",
        "1\n",
        "=\n",
        "1\n",
        "𝑎\n",
        "𝑑\n",
        "−\n",
        "𝑏\n",
        "𝑐\n",
        "[\n",
        "𝑑\n",
        "−\n",
        "𝑏\n",
        "−\n",
        "𝑐\n",
        "𝑎\n",
        "]\n",
        "\n",
        "Example:\n",
        "\n",
        "𝐴\n",
        "=\n",
        "[\n",
        "1\n",
        "2\n",
        "3\n",
        "4\n",
        "]\n",
        "⇒\n",
        "𝐴\n",
        "−\n",
        "1\n",
        "=\n",
        "[\n",
        "−\n",
        "2\n",
        "1\n",
        "1.5\n",
        "−\n",
        "0.5\n",
        "]\n",
        "\n",
        "\n",
        "\n",
        "Use in ML: Solving equations, normal equations in linear regression."
      ],
      "metadata": {
        "id": "2SJ-EEApz2K7"
      }
    },
    {
      "cell_type": "code",
      "source": [
        "# Python Equivalent\n",
        "\n",
        "A = np.array([[1, 2], [3, 4]])\n",
        "A_inv = np.linalg.inv(A)\n",
        "print(\"Inverse:\\n\", A_inv)"
      ],
      "metadata": {
        "colab": {
          "base_uri": "https://localhost:8080/"
        },
        "id": "hX0rKszjz_q0",
        "outputId": "839204f2-da7f-4521-b5d7-91b46ddb2f80"
      },
      "execution_count": 56,
      "outputs": [
        {
          "output_type": "stream",
          "name": "stdout",
          "text": [
            "Inverse:\n",
            " [[-2.   1. ]\n",
            " [ 1.5 -0.5]]\n"
          ]
        }
      ]
    },
    {
      "cell_type": "markdown",
      "source": [
        "**9. Determinant**\n",
        "Description: Scalar measure of a matrix’s scaling factor or volume.\n",
        "\n",
        "Math:\n",
        "\n",
        "det\n",
        "(\n",
        "𝐴\n",
        ")\n",
        "\n",
        "Example:\n",
        "\n",
        "𝐴\n",
        "=\n",
        "[\n",
        "1\n",
        "2\n",
        "3\n",
        "4\n",
        "]\n",
        "⇒\n",
        "det\n",
        "(\n",
        "𝐴\n",
        ")\n",
        "=\n",
        "1\n",
        "×\n",
        "4\n",
        "−\n",
        "2\n",
        "×\n",
        "3\n",
        "=\n",
        "−\n",
        "2\n",
        "\n",
        "Use in ML: Inversion validity, multivariate normal density, area/volume scaling."
      ],
      "metadata": {
        "id": "d_hi8QOp0IqS"
      }
    },
    {
      "cell_type": "code",
      "source": [
        "# Python Equivalent\n",
        "A = np.array([[1, 2], [3, 4]])\n",
        "det = np.linalg.det(A)\n",
        "\n",
        "print(\"Determinant\", det)"
      ],
      "metadata": {
        "colab": {
          "base_uri": "https://localhost:8080/"
        },
        "id": "My45KkXq0R2g",
        "outputId": "e6455b1e-6721-4090-8727-16fd13fc122f"
      },
      "execution_count": 57,
      "outputs": [
        {
          "output_type": "stream",
          "name": "stdout",
          "text": [
            "Determinant -2.0000000000000004\n"
          ]
        }
      ]
    },
    {
      "cell_type": "markdown",
      "source": [
        "**10. Norm**\n",
        "\n",
        "Description: Length or magnitude of a vector.\n",
        "\n",
        "Math:\n",
        "\n",
        "∥\n",
        "𝑥\n",
        "⃗\n",
        "∥\n",
        "=\n",
        "∑\n",
        "𝑥\n",
        "𝑖\n",
        "2\n",
        "\n",
        "(L2 Norm):\n",
        "\n",
        "∥\n",
        "𝑎\n",
        "⃗\n",
        "∥\n",
        "=\n",
        "∑\n",
        "𝑎\n",
        "𝑖\n",
        "2\n",
        "\n",
        "Example:\n",
        "\n",
        "𝑎\n",
        "=\n",
        "[\n",
        "3\n",
        ",\n",
        "4\n",
        "]\n",
        "⇒\n",
        "3\n",
        "2\n",
        "+\n",
        "4\n",
        "2\n",
        "=\n",
        "5\n",
        "\n",
        "\n",
        "Use in ML: Regularization (L1, L2), measuring distances.\n"
      ],
      "metadata": {
        "id": "896hf_SO0cG0"
      }
    },
    {
      "cell_type": "code",
      "source": [
        "# Python Equivalent\n",
        "x = np.array([3, 4])\n",
        "norm = np.linalg.norm(x)\n",
        "print(\"Norm output:\\n\", norm)"
      ],
      "metadata": {
        "colab": {
          "base_uri": "https://localhost:8080/"
        },
        "id": "yFxrz7AV0mKA",
        "outputId": "916e7eac-84e7-45c9-bff9-b80bc7ef8928"
      },
      "execution_count": 58,
      "outputs": [
        {
          "output_type": "stream",
          "name": "stdout",
          "text": [
            "Norm output:\n",
            " 5.0\n"
          ]
        }
      ]
    },
    {
      "cell_type": "markdown",
      "source": [
        "**11. Trace**\n",
        "\n",
        "Description: Sum of the diagonal elements of a square matrix.\n",
        "\n",
        "Math:\n",
        "\n",
        "tr\n",
        "(\n",
        "𝐴\n",
        ")\n",
        "=\n",
        "∑\n",
        "𝐴\n",
        "𝑖\n",
        "𝑖\n",
        "\n",
        "\n",
        "Example:\n",
        "\n",
        "𝐴\n",
        "=\n",
        "[\n",
        "1\n",
        "2\n",
        "3\n",
        "4\n",
        "]\n",
        "⇒\n",
        "tr\n",
        "(\n",
        "𝐴\n",
        ")\n",
        "=\n",
        "1\n",
        "+\n",
        "4\n",
        "=\n",
        "5\n",
        "\n",
        "Use in ML: In optimization, kernel tricks, matrix properties."
      ],
      "metadata": {
        "id": "m8NEUkbl01OR"
      }
    },
    {
      "cell_type": "code",
      "source": [
        "# Python Equivalent\n",
        "A = np.array([[1, 2], [3, 4]])\n",
        "trace = np.trace(A)\n",
        "\n",
        "print(\"Trace\",trace)"
      ],
      "metadata": {
        "colab": {
          "base_uri": "https://localhost:8080/"
        },
        "id": "oQXgPqvC1Gj-",
        "outputId": "de9385be-3171-436c-c1ae-38d85c9f526a"
      },
      "execution_count": 60,
      "outputs": [
        {
          "output_type": "stream",
          "name": "stdout",
          "text": [
            "Trace 5\n"
          ]
        }
      ]
    },
    {
      "cell_type": "markdown",
      "source": [
        "**12. Rank**\n",
        "\n",
        "Description: Number of linearly independent rows or columns.\n",
        "\n",
        "Math:\n",
        "rank\n",
        "(\n",
        "𝐴\n",
        ")\n",
        "\n",
        "Example:\n",
        "\n",
        "𝐴\n",
        "=\n",
        "[\n",
        "1\n",
        "2\n",
        "2\n",
        "4\n",
        "]\n",
        "⇒\n",
        "Rank\n",
        "(\n",
        "𝐴\n",
        ")\n",
        "=\n",
        "1\n",
        "\n",
        "Use in ML: Data dimensionality, invertibility, linear dependence.\n"
      ],
      "metadata": {
        "id": "TKxQvnpF5CRF"
      }
    },
    {
      "cell_type": "markdown",
      "source": [
        "**13. Diagonalization**\n",
        "Description: Concept: Convert a square matrix to diagonal using eigenvalues\n",
        "\n",
        "**Formula:**\n",
        "\n",
        "𝐴\n",
        "=\n",
        "𝑃\n",
        "𝐷\n",
        "𝑃\n",
        "−\n",
        "1\n",
        ",\n",
        "𝐷\n",
        "=\n",
        "diag\n",
        "(\n",
        "𝜆\n",
        "1\n",
        ",\n",
        "𝜆\n",
        "2\n",
        ",\n",
        ".\n",
        ".\n",
        ".\n",
        ")\n",
        "\n",
        "Where:\n",
        "- P is the matrix of eigenvectors\n",
        "- D is a diagonal matrix of eigenvalues\n",
        "\n",
        "**Eigen Values:**\n",
        "\n",
        "A=[[4,2],[1,3]]\n",
        "\n",
        "det(A−λI)=0\n",
        "\n",
        "Where\n",
        "𝐼\n",
        "I is the identity matrix:\n",
        "\n",
        "det([\n",
        "4−λ\n",
        "2\n",
        "​\n",
        "  \n",
        "1\n",
        "3−λ\n",
        "​\n",
        " ])=0\n",
        "\n",
        "Calculate determinant:\n",
        "\n",
        "(\n",
        "4\n",
        "−\n",
        "𝜆\n",
        ")\n",
        "(\n",
        "3\n",
        "−\n",
        "𝜆\n",
        ")\n",
        "−\n",
        "(\n",
        "2\n",
        ")\n",
        "(\n",
        "1\n",
        ")\n",
        "=\n",
        "0\n",
        "⇒\n",
        "𝜆\n",
        "2\n",
        "−\n",
        "7\n",
        "𝜆\n",
        "+\n",
        "10\n",
        "=\n",
        "0\n",
        "\n",
        "Solve:\n",
        "\n",
        "𝜆\n",
        "=\n",
        "5\n",
        ",\n",
        "𝜆\n",
        "=\n",
        "2\n",
        "\n",
        "**So, the eigenvalues are 5 and 2.**\n",
        "\n",
        "\n",
        "**Eigen Vectors:**\n",
        "\n",
        "For each λ, solve:\n",
        "\n",
        "(\n",
        "𝐴\n",
        "−\n",
        "𝜆\n",
        "𝐼\n",
        ")\n",
        "𝑣\n",
        "⃗\n",
        "=\n",
        "0\n",
        "\n",
        "For λ = 5:\n",
        "\n",
        "𝐴\n",
        "−\n",
        "5\n",
        "𝐼\n",
        "=\n",
        "[\n",
        "−\n",
        "1\n",
        "1\n",
        "2\n",
        "−\n",
        "2\n",
        "]\n",
        "\n",
        "Solving:\n",
        "\n",
        "[\n",
        "−\n",
        "1\n",
        "1\n",
        "2\n",
        "−\n",
        "2\n",
        "]\n",
        "⋅\n",
        "[\n",
        "𝑥\n",
        "𝑦\n",
        "]\n",
        "=\n",
        "[\n",
        "0\n",
        "0\n",
        "]\n",
        "\n",
        "Gives x = y, so eigenvector is:\n",
        "\n",
        "𝑣\n",
        "1\n",
        "=\n",
        "[\n",
        "1\n",
        "1\n",
        "]\n",
        "\n",
        "For λ = 2:\n",
        "\n",
        "𝐴\n",
        "−\n",
        "2\n",
        "𝐼\n",
        "=\n",
        "[\n",
        "2\n",
        "1\n",
        "2\n",
        "1\n",
        "]\n",
        "\n",
        "Solving:\n",
        "\n",
        "2\n",
        "𝑥\n",
        "+\n",
        "𝑦\n",
        "=\n",
        "0\n",
        "⇒\n",
        "𝑦\n",
        "=\n",
        "−\n",
        "2\n",
        "𝑥\n",
        "\n",
        "**So eigenvector:**\n",
        "\n",
        "𝑣\n",
        "2\n",
        "=\n",
        "[\n",
        "1\n",
        "−\n",
        "2\n",
        "]\n",
        "\n",
        "\n",
        "\n",
        "Use in ML: PCA, spectral clustering, stability analysis."
      ],
      "metadata": {
        "id": "S4fl6S8z1McK"
      }
    },
    {
      "cell_type": "code",
      "source": [
        "# Python Equivalent\n",
        "A = np.array([[4, 1], [1, 4]])\n",
        "eigvals, eigvecs = np.linalg.eig(A)\n",
        "\n",
        "print(\"Eigen Values : {},\\nEigen Vectors: {}\".format(eigvals, eigvecs))"
      ],
      "metadata": {
        "colab": {
          "base_uri": "https://localhost:8080/"
        },
        "id": "pZq6xVVA1MD5",
        "outputId": "6362ebd8-b1ee-422b-d177-13519b014871"
      },
      "execution_count": 61,
      "outputs": [
        {
          "output_type": "stream",
          "name": "stdout",
          "text": [
            "Eigen Values : [5. 3.],\n",
            "Eigen Vectors: [[ 0.70710678 -0.70710678]\n",
            " [ 0.70710678  0.70710678]]\n"
          ]
        }
      ]
    },
    {
      "cell_type": "markdown",
      "source": [
        "# Summarize\n",
        "\n",
        "| Operation               | Explanation & Example                                | NumPy Code                 | Output                         |\n",
        "|------------------------|-------------------------------------------------------|----------------------------|--------------------------------|\n",
        "| 1. Addition/Subtraction | Element-wise operation on same-shape matrices        |                            |                                |\n",
        "|                        | A = [[1, 2], [3, 4]]                                  | A + B                      | [[ 5, 7],                      |\n",
        "|                        | B = [[4, 5], [6, 7]]                                  |                            |  [ 9, 11]]                     |\n",
        "|------------------------|-------------------------------------------------------|----------------------------|--------------------------------|\n",
        "| 2. Scalar Multiplication| Multiply each element by scalar                      | 3 * A                      | [[ 3, 6],                      |\n",
        "|                        | A = [[1, 2], [3, 4]]                                  |                            |  [ 9, 12]]                     |\n",
        "|------------------------|-------------------------------------------------------|----------------------------|--------------------------------|\n",
        "| 3. Matrix Multiplication| Dot product: (m×n) • (n×p) = (m×p)                   | A @ B or np.dot(A, B)      | [[19],                         |\n",
        "|                        | A = [[1, 2, 3], [4, 5, 6]]                            |                            |  [46]]                         |\n",
        "|                        | B = [[1], [2], [3]]                                   |                            |                                |\n",
        "|------------------------|-------------------------------------------------------|----------------------------|--------------------------------|\n",
        "| 4. Dot Product (Inner)  | Sum of element-wise product of vectors               | np.dot(a, b)               | 11                             |\n",
        "|                        | a = [1, 2], b = [3, 4]                                |                            |                                |\n",
        "|------------------------|-------------------------------------------------------|----------------------------|--------------------------------|\n",
        "| 5. Outer Product        | Creates a matrix from vector outer product           | np.outer(a, b)             | [[ 3, 4],                      |\n",
        "|                        | a = [1, 2], b = [3, 4]                                |                            |  [ 6, 8]]                      |\n",
        "|------------------------|-------------------------------------------------------|----------------------------|--------------------------------|\n",
        "| 6. Hadamard Product     | Element-wise multiplication                          | A * B                      | [[ 4, 10],                     |\n",
        "|                        | A = [[1, 2], [3, 4]]                                  |                            |  [18, 28]]                     |\n",
        "|                        | B = [[4, 5], [6, 7]]                                  |                            |                                |\n",
        "|------------------------|-------------------------------------------------------|----------------------------|--------------------------------|\n",
        "| 7. Transpose            | Flip matrix over diagonal                            | A.T                        | [[1, 3],                       |\n",
        "|                        | A = [[1, 2], [3, 4]]                                  |                            |  [2, 4]]                       |\n",
        "|------------------------|-------------------------------------------------------|----------------------------|--------------------------------|\n",
        "| 8. Inverse              | A⁻¹ such that A⁻¹ @ A = I                            | np.linalg.inv(A)           | [[-2. ,  1. ],                 |\n",
        "|                        | A = [[1, 2], [3, 4]]                                  |                            |  [ 1.5, -0.5]]                 |\n",
        "|------------------------|-------------------------------------------------------|----------------------------|--------------------------------|\n",
        "| 9. Determinant          | Scalar measure of matrix area/volume                 | np.linalg.det(A)           | -2.0000000000000004           |\n",
        "|                        | A = [[1, 2], [3, 4]]                                  |                            |                                |\n",
        "|------------------------|-------------------------------------------------------|----------------------------|--------------------------------|\n",
        "|10. Norm (Length)        | Length of a vector                                   | np.linalg.norm(a)          | 5.0                            |\n",
        "|                        | a = [3, 4]                                            |                            |                                |\n",
        "|------------------------|-------------------------------------------------------|----------------------------|--------------------------------|\n",
        "|11. Trace                | Sum of diagonal elements                             | np.trace(A)                | 5                              |\n",
        "|                        | A = [[1, 2], [3, 4]]                                  |                            |                                |\n",
        "|------------------------|-------------------------------------------------------|----------------------------|--------------------------------|\n",
        "|12. Rank                 | No. of linearly independent rows/columns             | np.linalg.matrix_rank(A)   | 2                              |\n",
        "|                        | A = [[1, 2], [2, 4]]                                  |                            |                                |\n",
        "|------------------------|-------------------------------------------------------|----------------------------|--------------------------------|\n",
        "|13. Diagonalization      | A = P D P⁻¹, D is diagonal with eigenvalues          | np.linalg.eig(A)           | eigenvalues: [5.372, -0.372]   |\n",
        "|                        | A = [[1, 2], [2, 3]]                                  |                            | eigenvectors: [[...], [...]]  |\n"
      ],
      "metadata": {
        "id": "oWPVwlsA5xWU"
      }
    }
  ]
}