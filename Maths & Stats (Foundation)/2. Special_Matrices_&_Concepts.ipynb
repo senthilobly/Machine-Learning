{
  "nbformat": 4,
  "nbformat_minor": 0,
  "metadata": {
    "colab": {
      "provenance": []
    },
    "kernelspec": {
      "name": "python3",
      "display_name": "Python 3"
    },
    "language_info": {
      "name": "python"
    }
  },
  "cells": [
    {
      "cell_type": "markdown",
      "source": [
        "# Linear Algebra Special Matrices & Concepts in Machine Learning:\n",
        "\n",
        "This guide explains key matrix types and linear algebra concepts frequently used in ML, with NumPy examples, properties, and use cases."
      ],
      "metadata": {
        "id": "GAPpgwBYmoSQ"
      }
    },
    {
      "cell_type": "markdown",
      "source": [
        "**1. Sparse Matrix**:\n",
        "A matrix with mostly zero values. Used to efficiently store and compute large, high-dimensional data. Common in NLP (e.g., TF-IDF, bag-of-words) and recommendation systems.\n",
        "\n",
        "**Use in ML:**\n",
        "1. Text data (TF-IDF, bag-of-words)\n",
        "2. Graph adjacency matrices\n",
        "3. Large-scale feature sets"
      ],
      "metadata": {
        "id": "NtD4_W1Dm381"
      }
    },
    {
      "cell_type": "code",
      "source": [
        "# Python Equivalent\n",
        "import numpy as np\n",
        "from scipy.sparse import csr_matrix\n",
        "dense = np.array([[0, 0, 1], [0, 0, 0], [5, 0, 0]])\n",
        "print(\"Dense matrix (NumPy):\\n\", dense)\n",
        "\n",
        "sparse = csr_matrix(dense)\n",
        "print(\"\\nSparse matrix (CSR):\\n\", sparse)"
      ],
      "metadata": {
        "colab": {
          "base_uri": "https://localhost:8080/"
        },
        "id": "yCUCiYRWnCwy",
        "outputId": "cc0f5cb0-c785-41bf-f29c-99d4b7a767e4"
      },
      "execution_count": 28,
      "outputs": [
        {
          "output_type": "stream",
          "name": "stdout",
          "text": [
            "Dense matrix (NumPy):\n",
            " [[0 0 1]\n",
            " [0 0 0]\n",
            " [5 0 0]]\n",
            "\n",
            "Sparse matrix (CSR):\n",
            " <Compressed Sparse Row sparse matrix of dtype 'int64'\n",
            "\twith 2 stored elements and shape (3, 3)>\n",
            "  Coords\tValues\n",
            "  (0, 2)\t1\n",
            "  (2, 0)\t5\n"
          ]
        }
      ]
    },
    {
      "cell_type": "markdown",
      "source": [
        "**2. Diagonal Matrix:** Only diagonal elements are non-zero; all off-diagonal elements are zero. Fast for multiplication and often arises in scaling and eigenvalue problems. Used in covariance matrices and matrix decompositions.\n",
        "\n",
        "**Use in ML:**\n",
        "1. Covariance matrices\n",
        "2. Scaling transformation\n",
        "3. Eigenvalue decomposition"
      ],
      "metadata": {
        "id": "Pn1B0WRrn1UL"
      }
    },
    {
      "cell_type": "code",
      "source": [
        "# Python Equivalent\n",
        "diag_matrix = np.diag([1, 2, 3, 4])  # Diagonal: 1, 2, 3\n",
        "print(\"Diagonal Matrix:\\n\", diag_matrix)"
      ],
      "metadata": {
        "colab": {
          "base_uri": "https://localhost:8080/"
        },
        "id": "-cRGq_40oAjc",
        "outputId": "aba1f4d3-deac-4655-8820-9fd6f7244867"
      },
      "execution_count": 29,
      "outputs": [
        {
          "output_type": "stream",
          "name": "stdout",
          "text": [
            "Diagonal Matrix:\n",
            " [[1 0 0 0]\n",
            " [0 2 0 0]\n",
            " [0 0 3 0]\n",
            " [0 0 0 4]]\n"
          ]
        }
      ]
    },
    {
      "cell_type": "markdown",
      "source": [
        "**3. Identity Matrix** A square matrix with 1s on the diagonal and 0s elsewhere.\n",
        "Acts as the multiplicative identity: A × I = A. Used in regularization, initialization, and preserving values during operations.\n",
        "\n",
        "**Use in ML:**\n",
        "1. Initialization in algorithms\n",
        "2. Regularization (e.g., λI in Ridge Regression)"
      ],
      "metadata": {
        "id": "sx9GJ1BLopd0"
      }
    },
    {
      "cell_type": "code",
      "source": [
        "# Python Equivalent\n",
        "I = np.eye(3)\n",
        "print(\"Identity Matrix:\\n\", I)"
      ],
      "metadata": {
        "colab": {
          "base_uri": "https://localhost:8080/"
        },
        "id": "LuaC7oxHo2yE",
        "outputId": "c85aa240-7f01-4151-a6cf-ba441c2eb1b2"
      },
      "execution_count": 31,
      "outputs": [
        {
          "output_type": "stream",
          "name": "stdout",
          "text": [
            "Identity Matrix:\n",
            " [[1. 0. 0.]\n",
            " [0. 1. 0.]\n",
            " [0. 0. 1.]]\n"
          ]
        }
      ]
    },
    {
      "cell_type": "markdown",
      "source": [
        "**4. Symmetric Matrix** A matrix where A = Aᵀ, meaning it's mirrored across the diagonal. Always square, with real eigenvalues. Common in statistics (covariance matrix) and optimization.\n",
        "\n",
        "**Use in ML:**\n",
        "1. Covariance matrices\n",
        "2. Similarity/distance matrices\n",
        "3. Optimization Hessians"
      ],
      "metadata": {
        "id": "0hYi2o2opOVN"
      }
    },
    {
      "cell_type": "code",
      "source": [
        "# Python Equivalent\n",
        "A = np.array([[1, 2], [2, 3]])\n",
        "\n",
        "print(\"Print A:\\n\", A)\n",
        "print(\"Print A transpose:\\n\", A.T)"
      ],
      "metadata": {
        "colab": {
          "base_uri": "https://localhost:8080/"
        },
        "id": "PziTblz4pery",
        "outputId": "f6e95273-2712-4ec2-d9d7-655fc03d3c3b"
      },
      "execution_count": 34,
      "outputs": [
        {
          "output_type": "stream",
          "name": "stdout",
          "text": [
            "Print A:\n",
            " [[1 2]\n",
            " [2 3]]\n",
            "Print A transpose:\n",
            " [[1 2]\n",
            " [2 3]]\n"
          ]
        }
      ]
    },
    {
      "cell_type": "markdown",
      "source": [
        "**5. Orthogonal Matrix** A square matrix whose transpose is equal to its inverse (Qᵀ = Q⁻¹). Preserves vector norms and angles; columns/rows are orthonormal. Used in PCA, QR decomposition, and dimensionality reduction.\n",
        "\n",
        "**Use in ML:**\n",
        "1. PCA (Principal Component Analysis)\n",
        "2. QR decomposition\n",
        "3. Rotations and projections\n",
        "\n"
      ],
      "metadata": {
        "id": "IO6iPENVp9pV"
      }
    },
    {
      "cell_type": "code",
      "source": [
        "# Python Equivalent\n",
        "from scipy.stats import ortho_group\n",
        "Q = ortho_group.rvs(3)\n",
        "print(Q)"
      ],
      "metadata": {
        "colab": {
          "base_uri": "https://localhost:8080/"
        },
        "id": "uYvh4qk2qLZV",
        "outputId": "847ef61f-a9a8-437d-ee71-0e2afd06e807"
      },
      "execution_count": 39,
      "outputs": [
        {
          "output_type": "stream",
          "name": "stdout",
          "text": [
            "[[-0.53144747 -0.78654175  0.3145086 ]\n",
            " [ 0.54302447 -0.03137174  0.83913064]\n",
            " [ 0.65014461 -0.61673972 -0.44378385]]\n"
          ]
        }
      ]
    },
    {
      "cell_type": "markdown",
      "source": [
        "**6. Positive Definite Matrix** A symmetric matrix where xᵀAx > 0 for all non-zero vectors x. All eigenvalues are positive, ensuring convexity in optimization. Appears in SVMs, Gaussian Processes, and Hessians in deep learning.\n",
        "\n",
        "**Use in ML:**\n",
        "1. Covariance matrices\n",
        "2. Kernel matrices (SVM, GP)\n",
        "3. Optimization problems (convexity)"
      ],
      "metadata": {
        "id": "A6E-1GGUqrZs"
      }
    },
    {
      "cell_type": "code",
      "source": [
        "# Python Equivalent\n",
        "A = np.array([[2, -1], [-1, 2]])\n",
        "is_pos_def = np.all(np.linalg.eigvals(A) > 0)\n",
        "print(is_pos_def)"
      ],
      "metadata": {
        "colab": {
          "base_uri": "https://localhost:8080/"
        },
        "id": "S0Ad4se4q4sS",
        "outputId": "007bf144-0f7c-4cc3-f276-d3e3d52f9f80"
      },
      "execution_count": 41,
      "outputs": [
        {
          "output_type": "stream",
          "name": "stdout",
          "text": [
            "True\n"
          ]
        }
      ]
    },
    {
      "cell_type": "markdown",
      "source": [
        "**7. Positive Definite Matrix** A matrix that satisfies P² = P, meaning it projects vectors onto a subspace. Used to decompose vectors and find least squares solutions. Common in linear regression and PCA projections.\n",
        "\n",
        "**Use in ML:**\n",
        "1. Least squares solution\n",
        "2. Dimensionality reduction\n",
        "3. Geometry in linear regression"
      ],
      "metadata": {
        "id": "O6O95FWTrTEx"
      }
    },
    {
      "cell_type": "code",
      "source": [
        "# Python Equivalent\n",
        "# Project onto vector u\n",
        "u = np.array([[1], [0]])\n",
        "P = u @ u.T\n",
        "print(P)"
      ],
      "metadata": {
        "colab": {
          "base_uri": "https://localhost:8080/"
        },
        "id": "3PNm3me0rcnw",
        "outputId": "c3dff3a1-8bc3-4b63-f17d-6eddc661d840"
      },
      "execution_count": 42,
      "outputs": [
        {
          "output_type": "stream",
          "name": "stdout",
          "text": [
            "[[1 0]\n",
            " [0 0]]\n"
          ]
        }
      ]
    },
    {
      "cell_type": "markdown",
      "source": [
        "**8. Rank Matrix** The number of linearly independent rows or columns in a matrix. Determines the amount of useful (non-redundant) information. Critical for solving systems, matrix inversion, and checking data quality.\n",
        "\n",
        "**Use in ML:**\n",
        "1. Detect redundancy\n",
        "2. Feature independence\n",
        "3. Invertibility checks"
      ],
      "metadata": {
        "id": "Guemdm1prq49"
      }
    },
    {
      "cell_type": "code",
      "source": [
        "# Python Equivalent\n",
        "A = np.array([[1, 2], [2, 4]])\n",
        "rank = np.linalg.matrix_rank(A)  # Output: 1\n",
        "print(rank)"
      ],
      "metadata": {
        "colab": {
          "base_uri": "https://localhost:8080/"
        },
        "id": "2sD3ZtXvr2WE",
        "outputId": "36e3fa44-414e-4ab6-f621-60821e911d40"
      },
      "execution_count": 43,
      "outputs": [
        {
          "output_type": "stream",
          "name": "stdout",
          "text": [
            "1\n"
          ]
        }
      ]
    },
    {
      "cell_type": "markdown",
      "source": [
        "# Summary\n",
        "\n",
        "| Concept           | Definition                      | Key Properties / Condition         | ML Usage                           |\n",
        "| ----------------- | ------------------------------- | ---------------------------------- | ---------------------------------- |\n",
        "| Sparse Matrix     | Mostly zeros                    | Efficient storage                  | NLP, graph data, high-dim features |\n",
        "| Diagonal Matrix   | Non-zeros on diagonal only      | `A[i,j]=0` if `i≠j`                | Covariance, eigenvalues, scaling   |\n",
        "| Identity Matrix   | Diagonal = 1s                   | `I @ A = A`                        | Initialization, regularization     |\n",
        "| Symmetric Matrix  | `A = Aᵀ`                        | Square, real eigenvalues           | Covariance, distance matrices      |\n",
        "| Orthogonal Matrix | `Q.T @ Q = I`                   | Inverse = transpose                | PCA, QR decomposition              |\n",
        "| Positive Definite | `xᵀAx > 0`                      | Eigenvalues > 0, symmetric         | Optimization, kernels, covariance  |\n",
        "| Projection Matrix | `P² = P`                        | Symmetric, idempotent              | Least squares, PCA                 |\n",
        "| Rank              | No. of independent rows/columns | ≤ min(m,n); full-rank = invertible | Feature selection, invertibility   |\n"
      ],
      "metadata": {
        "id": "AF9A6KWWsAPc"
      }
    }
  ]
}