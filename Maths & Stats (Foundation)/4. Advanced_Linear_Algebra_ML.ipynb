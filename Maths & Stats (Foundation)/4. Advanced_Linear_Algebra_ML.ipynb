{
  "cells": [
    {
      "cell_type": "markdown",
      "source": [
        "Advanced Linear Algebra concepts for Machine Learning"
      ],
      "metadata": {
        "id": "3U7g5BCVZrvy"
      },
      "id": "3U7g5BCVZrvy"
    },
    {
      "cell_type": "markdown",
      "source": [
        "## **1. Linear Independence**\n",
        "### Concept\n",
        "A set of vectors is linearly independent if no vector can be written as a combination of others.\n",
        "\n",
        "### Mathematical Formulation\n",
        "For vectors 𝐯₁, 𝐯₂, ..., 𝐯ₙ:\n",
        "c₁𝐯₁ + c₂𝐯₂ + ... + cₙ𝐯ₙ = 𝟎 only when all cᵢ = 0\n",
        "\n",
        "### Manual Calculation\n",
        "Given:\n",
        "𝐯₁ = [1, 2], 𝐯₂ = [3, 4]\n",
        "\n",
        "c1\n",
        "​\n",
        "[\n",
        "1\n",
        "2\n",
        "​\n",
        "] + c2\n",
        "​\n",
        " [\n",
        "2\n",
        "4\n",
        "​\n",
        " ]=[\n",
        "0\n",
        "0]\n",
        "\n",
        "\n",
        "Check:\n",
        "1c₁ + 3c₂ = 0\n",
        "2c₁ + 4c₂ = 0\n",
        "\n",
        "First Equation : c1 = -2c2\n",
        "Substituting into the second:\n",
        "2(-2c2) + 4c2 = -4c2 + 4c2 = 0\n",
        "Solution: c₁ = c₂ = 0 ⇒ Independent\n",
        "\n",
        "**ML Application**\n",
        "\n",
        "Feature selection: Removing redundant features to avoid multicollinearity"
      ],
      "metadata": {
        "id": "-8PT4_JFZ0OI"
      },
      "id": "-8PT4_JFZ0OI"
    },
    {
      "cell_type": "code",
      "source": [
        "# Python Equivalent\n",
        "import numpy as np\n",
        "v1 = np.array([1, 2])\n",
        "v2 = np.array([3, 4])\n",
        "A = np.column_stack((v1, v2))\n",
        "print(\"Rank:\", np.linalg.matrix_rank(A))  # 2 ⇒ Independent"
      ],
      "metadata": {
        "colab": {
          "base_uri": "https://localhost:8080/"
        },
        "id": "8FE601e_Z71M",
        "outputId": "ac6fab7a-be96-43ef-f144-d9b960aa8dd4"
      },
      "id": "8FE601e_Z71M",
      "execution_count": 1,
      "outputs": [
        {
          "output_type": "stream",
          "name": "stdout",
          "text": [
            "Rank: 2\n"
          ]
        }
      ]
    },
    {
      "cell_type": "markdown",
      "source": [
        "## **2. Span**\n",
        "### Concept\n",
        "All possible linear combinations of vectors.\n",
        "\n",
        "In short:\n",
        "Span = All vectors you can make using the given vectors + scaling + adding.\n",
        "\n",
        "### Manual Calculation\n",
        "For vectors v1,v1,...vn, their span is:\n",
        "Span(v1,v2,.......,vn) = {c1v1 + c2v2 + ...... + cnvn | ci ∈ R}\n",
        "\n",
        "𝑐\n",
        "1\n",
        ",\n",
        "𝑐\n",
        "2\n",
        "c\n",
        "1\n",
        "​\n",
        " ,c\n",
        "2\n",
        "​\n",
        "  are scalars (any real numbers)\n",
        "  \n",
        "  𝑣\n",
        "1\n",
        ",\n",
        "𝑣\n",
        "2\n",
        "are your vectors.\n",
        "\n",
        "Given 𝐯₁ = [1,2], 𝐯₂ = [2,4]:\n",
        "Span(𝐯₁,𝐯₂) = ℝ²\n",
        "\n",
        "x.v1 + y.v2 =[x, y]\n",
        "\n",
        "From v1 and v2. v2 = 2.v1\n",
        "\n",
        "So, Span(v1\n",
        "​\n",
        " ,v2\n",
        "​\n",
        " )=Line along v1\n",
        "\n",
        "\n",
        "\n",
        "\n",
        "**ML Application**\n",
        "Feature engineering: Understanding the space of possible feature combinations."
      ],
      "metadata": {
        "id": "HlnUXKMeaJkF"
      },
      "id": "HlnUXKMeaJkF"
    },
    {
      "cell_type": "code",
      "source": [
        "# Python Equivalent\n",
        "import numpy as np\n",
        "from sympy import Matrix\n",
        "\n",
        "# Case 1: Independent vectors (span = 2D plane)\n",
        "v1 = np.array([1, 0])\n",
        "v2 = np.array([0, 1])\n",
        "A = np.column_stack((v1, v2))\n",
        "print(\"Case 1 Rank (Span dimension):\", np.linalg.matrix_rank(A))  # Output: 2\n",
        "\n",
        "# Case 2: Dependent vectors (span = line)\n",
        "v3 = np.array([1, 2])\n",
        "v4 = np.array([2, 4])\n",
        "B = np.column_stack((v3, v4))\n",
        "print(\"Case 2 Rank (Span dimension):\", np.linalg.matrix_rank(B))  # Output: 1\n"
      ],
      "metadata": {
        "colab": {
          "base_uri": "https://localhost:8080/"
        },
        "id": "-ZjpGnTOaKm4",
        "outputId": "6211784f-8d7a-4992-a72d-875d8f803ac2"
      },
      "id": "-ZjpGnTOaKm4",
      "execution_count": 17,
      "outputs": [
        {
          "output_type": "stream",
          "name": "stdout",
          "text": [
            "Case 1 Rank (Span dimension): 2\n",
            "Case 2 Rank (Span dimension): 1\n"
          ]
        }
      ]
    },
    {
      "cell_type": "markdown",
      "source": [
        "## **3. Basis & Dimension**\n",
        "### Concept\n",
        "A basis is a minimal set of linearly independent vectors that span a space. The dimension is the number of vectors in the basis.\n",
        "\n",
        "### Manual Calculation\n",
        "Given 𝐯₁=[1,1], 𝐯₂=[-1,1]:\n",
        "- Independent? Yes (c₁=c₂=0 only solution)\n",
        "- Span ℝ²? Yes ⇒ Basis\n",
        "\n",
        "1. Check Linear Independence\n",
        "\n",
        "c1.v1 + c2.v2 = [0, 0]\n",
        "\n",
        "c1[1 ,1] + c2[-1, 1] = [0, 0]\n",
        "\n",
        "c1-c2 =0\n",
        "\n",
        "c1+c2 =0\n",
        "\n",
        "⇒\n",
        "c\n",
        "1\n",
        "=\n",
        "c\n",
        "2\n",
        "=\n",
        "0\n",
        "Independent.\n",
        "\n",
        "2. Span R2\n",
        "\n",
        "Any vector [a, b] can be written as\n",
        "    a + b/2[1, 1] + b - a/2[-1, 1]\n",
        "\n",
        "**ML Application**\n",
        "PCA: The principal components form a new basis for the data."
      ],
      "metadata": {
        "id": "qv1_yFNdaRI0"
      },
      "id": "qv1_yFNdaRI0"
    },
    {
      "cell_type": "code",
      "source": [
        "# Python Equivalent\n",
        "basis = np.array([[1, 1], [-1, 1]])\n",
        "print(\"Matrix rank:\", np.linalg.matrix_rank(basis))  # 2 ⇒ Basis for ℝ²"
      ],
      "metadata": {
        "colab": {
          "base_uri": "https://localhost:8080/"
        },
        "id": "Ns-a2TkWaTtH",
        "outputId": "d8df1c4f-381e-4198-cddc-764a63a79a1f"
      },
      "id": "Ns-a2TkWaTtH",
      "execution_count": 3,
      "outputs": [
        {
          "output_type": "stream",
          "name": "stdout",
          "text": [
            "Matrix rank: 2\n"
          ]
        }
      ]
    },
    {
      "cell_type": "markdown",
      "source": [
        "## **4. Orthogonality**\n",
        "### Concept\n",
        "Vectors are orthogonal if their dot product is zero.\n",
        "\n",
        "u.v = 0\n",
        "\n",
        "### Manual Calculation\n",
        "Given 𝐮=[1,1], 𝐯=[-1,1]:\n",
        "𝐮·𝐯 = (1)(-1) + (1)(1) = 0 ⇒ Orthogonal\n",
        "\n",
        "**ML Application**\n",
        "PCA: Orthogonal eigenvectors represent uncorrelated features."
      ],
      "metadata": {
        "id": "e6hK4bBVaYg-"
      },
      "id": "e6hK4bBVaYg-"
    },
    {
      "cell_type": "code",
      "source": [
        "# Python Equivalent\n",
        "u = np.array([1, 1])\n",
        "v = np.array([-1, 1])\n",
        "print(\"Dot product:\", np.dot(u, v))  # 0 ⇒ Orthogonal"
      ],
      "metadata": {
        "colab": {
          "base_uri": "https://localhost:8080/"
        },
        "id": "IE2Qqps8abHP",
        "outputId": "8e23a0e3-4e56-46cc-b586-983a92e621d3"
      },
      "id": "IE2Qqps8abHP",
      "execution_count": 4,
      "outputs": [
        {
          "output_type": "stream",
          "name": "stdout",
          "text": [
            "Dot product: 0\n"
          ]
        }
      ]
    },
    {
      "cell_type": "markdown",
      "source": [
        "## **5. Eigenvalues & Eigenvectors**\n",
        "### Concept\n",
        "For matrix A, find λ and 𝐯 such that A𝐯 = λ𝐯\n",
        "\n",
        "### Manual Calculation\n",
        "Given A = [[2,1],[1,2]]:\n",
        "\n",
        "Characteristic equation: λ² - 4λ + 3 = 0\n",
        "\n",
        "Eigenvalues: λ=1, λ=3\n",
        "\n",
        "Eigenvectors: [1,-1] and [1,1]"
      ],
      "metadata": {
        "id": "RgDTlDcxagNj"
      },
      "id": "RgDTlDcxagNj"
    },
    {
      "cell_type": "code",
      "source": [
        "# Python Equivalent\n",
        "A = np.array([[2, 1], [1, 2]])\n",
        "eigvals, eigvecs = np.linalg.eig(A)\n",
        "print(\"Eigenvalues:\", eigvals)\n",
        "print(\"Eigenvectors:\\n\", eigvecs)\n"
      ],
      "metadata": {
        "colab": {
          "base_uri": "https://localhost:8080/"
        },
        "id": "rgutQPW0ajKn",
        "outputId": "66383b9d-0893-4032-da90-2bc04221453d"
      },
      "id": "rgutQPW0ajKn",
      "execution_count": 5,
      "outputs": [
        {
          "output_type": "stream",
          "name": "stdout",
          "text": [
            "Eigenvalues: [3. 1.]\n",
            "Eigenvectors:\n",
            " [[ 0.70710678 -0.70710678]\n",
            " [ 0.70710678  0.70710678]]\n"
          ]
        }
      ]
    },
    {
      "cell_type": "markdown",
      "source": [
        "## **6. Spectral Decomposition**\n",
        "### Concept\n",
        "Decompose A = PDP⁻¹ where P has eigenvectors and D has eigenvalues.\n",
        "\n",
        "### Manual Calculation\n",
        "Using previous A:\n",
        "P = [[1,1],[-1,1]], D = [[1,0],[0,3]]\n",
        "\n",
        "ML Application\n",
        "Matrix factorization in recommendation systems."
      ],
      "metadata": {
        "id": "W6R38UU9aoCW"
      },
      "id": "W6R38UU9aoCW"
    },
    {
      "cell_type": "code",
      "source": [
        "P = eigvecs\n",
        "D = np.diag(eigvals)\n",
        "print(\"Reconstructed A:\\n\", P @ D @ np.linalg.inv(P))"
      ],
      "metadata": {
        "colab": {
          "base_uri": "https://localhost:8080/"
        },
        "id": "8534u7pwaqL5",
        "outputId": "e55524f6-a753-4eea-ed27-f6985e04f760"
      },
      "id": "8534u7pwaqL5",
      "execution_count": 6,
      "outputs": [
        {
          "output_type": "stream",
          "name": "stdout",
          "text": [
            "Reconstructed A:\n",
            " [[2. 1.]\n",
            " [1. 2.]]\n"
          ]
        }
      ]
    },
    {
      "cell_type": "markdown",
      "source": [
        "## **7. Singular Value Decomposition (SVD)**\n",
        "### Concept\n",
        "Factorize A = UΣVᵀ where U and V are orthogonal.\n",
        "\n",
        "### Manual Calculation\n",
        "For A = [[1,1],[0,1]]:\n",
        "\n",
        "U ≈ [[-0.85,-0.53],[-0.53,0.85]]\n",
        "\n",
        "Σ ≈ [1.62, 0.62]\n",
        "\n",
        "Vᵀ ≈ [[-0.53, -0.85], [0.85, -0.53]]\n",
        "\n",
        "ML Application\n",
        "Dimensionality reduction (e.g., truncated SVD)."
      ],
      "metadata": {
        "id": "JJRESri-aswr"
      },
      "id": "JJRESri-aswr"
    },
    {
      "cell_type": "code",
      "source": [
        "# Python Equivalent\n",
        "A = np.array([[1, 1], [0, 1]])\n",
        "U, S, Vt = np.linalg.svd(A)\n",
        "print(\"U:\\n\", U)\n",
        "print(\"Singular values:\", S)\n",
        "print(\"Vᵀ:\\n\", Vt)"
      ],
      "metadata": {
        "colab": {
          "base_uri": "https://localhost:8080/"
        },
        "id": "OpfA6txEau8-",
        "outputId": "66f235eb-3e95-498f-f54c-a19713c78b78"
      },
      "id": "OpfA6txEau8-",
      "execution_count": 7,
      "outputs": [
        {
          "output_type": "stream",
          "name": "stdout",
          "text": [
            "U:\n",
            " [[ 0.85065081 -0.52573111]\n",
            " [ 0.52573111  0.85065081]]\n",
            "Singular values: [1.61803399 0.61803399]\n",
            "Vᵀ:\n",
            " [[ 0.52573111  0.85065081]\n",
            " [-0.85065081  0.52573111]]\n"
          ]
        }
      ]
    },
    {
      "cell_type": "markdown",
      "source": [
        "## **8. QR Decomposition**\n",
        "### Concept\n",
        "Factorize A = QR where Q is orthogonal and R is upper triangular.\n",
        "\n",
        "### Manual Calculation\n",
        "For A = [[1,1],[1,0],[0,1]]:\n",
        "Q ≈ [[0.71,0.41],[0.71,-0.41],[0,0.82]]\n",
        "R ≈ [[1.41,0.71],[0,1.22]]"
      ],
      "metadata": {
        "id": "4XGPihBNazTk"
      },
      "id": "4XGPihBNazTk"
    },
    {
      "cell_type": "code",
      "source": [
        "# Python Equivalent\n",
        "A = np.array([[1, 1], [1, 0], [0, 1]])\n",
        "Q, R = np.linalg.qr(A)\n",
        "print(\"Q:\\n\", Q)\n",
        "print(\"R:\\n\", R)"
      ],
      "metadata": {
        "colab": {
          "base_uri": "https://localhost:8080/"
        },
        "id": "8gvYiOeua19D",
        "outputId": "3921b6e9-577b-4dd2-8cb5-750c2272f9e8"
      },
      "id": "8gvYiOeua19D",
      "execution_count": 8,
      "outputs": [
        {
          "output_type": "stream",
          "name": "stdout",
          "text": [
            "Q:\n",
            " [[-0.70710678  0.40824829]\n",
            " [-0.70710678 -0.40824829]\n",
            " [-0.          0.81649658]]\n",
            "R:\n",
            " [[-1.41421356 -0.70710678]\n",
            " [ 0.          1.22474487]]\n"
          ]
        }
      ]
    },
    {
      "cell_type": "markdown",
      "source": [
        "## **9. LU Decomposition**\n",
        "### Concept\n",
        "Factorize A = LU where L is lower triangular and U is upper triangular.\n",
        "\n",
        "### Manual Calculation\n",
        "For A = [[2,-1,-2],[-4,6,3],[-4,-2,8]]:\n",
        "L = [[1,0,0],[-2,1,0],[-2,-1,1]]\n",
        "U = [[2,-1,-2],[0,4,-1],[0,0,3]]"
      ],
      "metadata": {
        "id": "n6d8rBXVa59k"
      },
      "id": "n6d8rBXVa59k"
    },
    {
      "cell_type": "code",
      "source": [
        "# Python Equivalent\n",
        "from scipy.linalg import lu\n",
        "A = np.array([[2, -1, -2], [-4, 6, 3], [-4, -2, 8]])\n",
        "P, L, U = lu(A)\n",
        "print(\"L:\\n\", L)\n",
        "print(\"U:\\n\", U)"
      ],
      "metadata": {
        "colab": {
          "base_uri": "https://localhost:8080/"
        },
        "id": "zTzbRcG6a8FM",
        "outputId": "bf0402eb-f965-4b8f-c5ce-822e5594a646"
      },
      "id": "zTzbRcG6a8FM",
      "execution_count": 9,
      "outputs": [
        {
          "output_type": "stream",
          "name": "stdout",
          "text": [
            "L:\n",
            " [[ 1.    0.    0.  ]\n",
            " [ 1.    1.    0.  ]\n",
            " [-0.5  -0.25  1.  ]]\n",
            "U:\n",
            " [[-4.    6.    3.  ]\n",
            " [ 0.   -8.    5.  ]\n",
            " [ 0.    0.    0.75]]\n"
          ]
        }
      ]
    },
    {
      "cell_type": "markdown",
      "source": [
        "## **10. Cholesky Decomposition**\n",
        "### Concept\n",
        "For symmetric positive-definite A, factorize A = LLᵀ.\n",
        "\n",
        "### Manual Calculation\n",
        "For A = [[4,12,-16],[12,37,-43],[-16,-43,98]]:\n",
        "L ≈ [[2,0,0],[6,1,0],[-8,5,3]]"
      ],
      "metadata": {
        "id": "uZrgBOHnbB9S"
      },
      "id": "uZrgBOHnbB9S"
    },
    {
      "cell_type": "code",
      "source": [
        "# Python Equivalent\n",
        "A = np.array([[4, 12, -16], [12, 37, -43], [-16, -43, 98]])\n",
        "L = np.linalg.cholesky(A)\n",
        "print(\"L:\\n\", L)"
      ],
      "metadata": {
        "colab": {
          "base_uri": "https://localhost:8080/"
        },
        "id": "ZmgiyOWxbCuv",
        "outputId": "b6e0f710-3c8a-4d89-c53a-c9df09a7299b"
      },
      "id": "ZmgiyOWxbCuv",
      "execution_count": 10,
      "outputs": [
        {
          "output_type": "stream",
          "name": "stdout",
          "text": [
            "L:\n",
            " [[ 2.  0.  0.]\n",
            " [ 6.  1.  0.]\n",
            " [-8.  5.  3.]]\n"
          ]
        }
      ]
    },
    {
      "cell_type": "markdown",
      "source": [
        "## **11. Moore-Penrose Pseudoinverse**\n",
        "### Concept\n",
        "Generalized inverse for non-square matrices: A⁺ = (AᵀA)⁻¹Aᵀ\n",
        "\n",
        "### Manual Calculation\n",
        "For A = [[1,1],[1,0],[0,1]]:\n",
        "A⁺ ≈ [[0.33,0.67,-0.33],[0.33,-0.33,0.67]]"
      ],
      "metadata": {
        "id": "yT2jO_qbbIrS"
      },
      "id": "yT2jO_qbbIrS"
    },
    {
      "cell_type": "code",
      "source": [
        "A = np.array([[1, 1], [1, 0], [0, 1]])\n",
        "A_plus = np.linalg.pinv(A)\n",
        "print(\"Pseudoinverse:\\n\", A_plus)"
      ],
      "metadata": {
        "colab": {
          "base_uri": "https://localhost:8080/"
        },
        "id": "1io2q77rbJ1q",
        "outputId": "44653551-83ce-4cc7-d890-90d01368d348"
      },
      "id": "1io2q77rbJ1q",
      "execution_count": 11,
      "outputs": [
        {
          "output_type": "stream",
          "name": "stdout",
          "text": [
            "Pseudoinverse:\n",
            " [[ 0.33333333  0.66666667 -0.33333333]\n",
            " [ 0.33333333 -0.33333333  0.66666667]]\n"
          ]
        }
      ]
    },
    {
      "cell_type": "markdown",
      "source": [
        "## **12. Gradient (as Vector)**\n",
        "### Concept\n",
        "Vector of partial derivatives ∇f = [∂f/∂x₁, ∂f/∂x₂]ᵀ\n",
        "\n",
        "### Manual Calculation\n",
        "For f(x,y) = x² + 2xy:\n",
        "\n",
        "∇f = [2x + 2y, 2x]ᵀ\n",
        "\n",
        "At (1,2): [6, 2]ᵀ"
      ],
      "metadata": {
        "id": "TMRjdx1ObMvp"
      },
      "id": "TMRjdx1ObMvp"
    },
    {
      "cell_type": "code",
      "source": [
        "# Python Equivalent\n",
        "def gradient(x, y):\n",
        "    return np.array([2*x + 2*y, 2*x])\n",
        "print(\"Gradient at (1,2):\", gradient(1, 2))"
      ],
      "metadata": {
        "colab": {
          "base_uri": "https://localhost:8080/"
        },
        "id": "B3XNASMBbSwj",
        "outputId": "b4fb7859-44ac-4580-a17a-0d8eec6ac138"
      },
      "id": "B3XNASMBbSwj",
      "execution_count": 12,
      "outputs": [
        {
          "output_type": "stream",
          "name": "stdout",
          "text": [
            "Gradient at (1,2): [6 2]\n"
          ]
        }
      ]
    },
    {
      "cell_type": "markdown",
      "source": [
        "## **13. Hessian (as Matrix)**\n",
        "### Concept\n",
        "Matrix of second derivatives H(f) = [[∂²f/∂x², ∂²f/∂x∂y],[∂²f/∂y∂x, ∂²f/∂y²]]\n",
        "\n",
        "### Manual Calculation\n",
        "For f(x,y) = x² + 2xy:\n",
        "H(f) = [[2, 2],[2, 0]]\n",
        "\"\"\""
      ],
      "metadata": {
        "id": "civVcvJCbevQ"
      },
      "id": "civVcvJCbevQ"
    },
    {
      "cell_type": "code",
      "source": [
        "# Python Equivalent\n",
        "def hessian(x, y):\n",
        "    return np.array([[2, 2], [2, 0]])\n",
        "print(\"Hessian:\\n\", hessian(1, 2))\n"
      ],
      "metadata": {
        "colab": {
          "base_uri": "https://localhost:8080/"
        },
        "id": "b4ugOdSUbfks",
        "outputId": "55701316-ffb5-4e25-e923-a6d78a7b3213"
      },
      "id": "b4ugOdSUbfks",
      "execution_count": 13,
      "outputs": [
        {
          "output_type": "stream",
          "name": "stdout",
          "text": [
            "Hessian:\n",
            " [[2 2]\n",
            " [2 0]]\n"
          ]
        }
      ]
    },
    {
      "cell_type": "markdown",
      "source": [
        "## **14. Projection**\n",
        "### Concept\n",
        "Projection of 𝐛 onto 𝐚: projₐ𝐛 = (𝐚·𝐛)/(𝐚·𝐚) 𝐚\n",
        "\n",
        "### Manual Calculation\n",
        "For 𝐚=[1,0], 𝐛=[1,1]:\n",
        "projₐ𝐛 = [1,0]"
      ],
      "metadata": {
        "id": "1wGWdgrSbly4"
      },
      "id": "1wGWdgrSbly4"
    },
    {
      "cell_type": "code",
      "source": [
        "a = np.array([1, 0])\n",
        "b = np.array([1, 1])\n",
        "proj = (np.dot(a, b)/np.dot(a, a)) * a\n",
        "print(\"Projection:\", proj)\n"
      ],
      "metadata": {
        "colab": {
          "base_uri": "https://localhost:8080/"
        },
        "id": "YHI76kx1bnoa",
        "outputId": "ee17dd4c-fd36-41d6-f88a-c1da469ce2ce"
      },
      "id": "YHI76kx1bnoa",
      "execution_count": 14,
      "outputs": [
        {
          "output_type": "stream",
          "name": "stdout",
          "text": [
            "Projection: [1. 0.]\n"
          ]
        }
      ]
    },
    {
      "cell_type": "markdown",
      "source": [
        "## **15. Covariance Matrix**\n",
        "### Concept\n",
        "Measures feature relationships: Σ = (1/n) XᵀX (for zero-mean X)\n",
        "\n",
        "### Manual Calculation\n",
        "For X = [[1,2],[3,4]]:\n",
        "Σ = [[4,4],[4,5]]"
      ],
      "metadata": {
        "id": "-KCNd9V1bqJ_"
      },
      "id": "-KCNd9V1bqJ_"
    },
    {
      "cell_type": "code",
      "source": [
        "# Python Equivalent\n",
        "X = np.array([[1, 2], [3, 4]])\n",
        "cov_matrix = np.cov(X.T)\n",
        "print(\"Covariance matrix:\\n\", cov_matrix)"
      ],
      "metadata": {
        "colab": {
          "base_uri": "https://localhost:8080/"
        },
        "id": "egIUFYSsbsW3",
        "outputId": "6cc80e46-50a4-4f74-b387-6fd05ae96ffd"
      },
      "id": "egIUFYSsbsW3",
      "execution_count": 15,
      "outputs": [
        {
          "output_type": "stream",
          "name": "stdout",
          "text": [
            "Covariance matrix:\n",
            " [[2. 2.]\n",
            " [2. 2.]]\n"
          ]
        }
      ]
    },
    {
      "cell_type": "markdown",
      "source": [
        "## **16. Gram Matrix**\n",
        "### Concept\n",
        "G = X Xᵀ where Gᵢⱼ = 𝐱ᵢ·𝐱ⱼ\n",
        "\n",
        "### Manual Calculation\n",
        "For X = [[1,2],[3,4]]:\n",
        "G = [[5,11],[11,25]]"
      ],
      "metadata": {
        "id": "2D7eiwrZbw_i"
      },
      "id": "2D7eiwrZbw_i"
    },
    {
      "cell_type": "code",
      "source": [
        "X = np.array([[1, 2], [3, 4]])\n",
        "gram = X @ X.T\n",
        "print(\"Gram matrix:\\n\", gram)"
      ],
      "metadata": {
        "colab": {
          "base_uri": "https://localhost:8080/"
        },
        "id": "ZT66XO3Lbx4y",
        "outputId": "61eb0fa6-59e1-45f4-e08d-4a488fe95ce8"
      },
      "id": "ZT66XO3Lbx4y",
      "execution_count": 16,
      "outputs": [
        {
          "output_type": "stream",
          "name": "stdout",
          "text": [
            "Gram matrix:\n",
            " [[ 5 11]\n",
            " [11 25]]\n"
          ]
        }
      ]
    }
  ],
  "metadata": {
    "colab": {
      "provenance": []
    },
    "language_info": {
      "name": "python"
    },
    "kernelspec": {
      "name": "python3",
      "display_name": "Python 3"
    }
  },
  "nbformat": 4,
  "nbformat_minor": 5
}