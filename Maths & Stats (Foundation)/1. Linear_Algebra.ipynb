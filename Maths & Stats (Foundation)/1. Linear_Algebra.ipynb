{
  "nbformat": 4,
  "nbformat_minor": 0,
  "metadata": {
    "colab": {
      "provenance": []
    },
    "kernelspec": {
      "name": "python3",
      "display_name": "Python 3"
    },
    "language_info": {
      "name": "python"
    }
  },
  "cells": [
    {
      "cell_type": "markdown",
      "source": [
        "# ***Linear Algebra***\n",
        "\n",
        "Linear algebra serves as a fundamental tool in machine learning, providing the mathematical foundation for handling data represented as vectors and matrices. This approach streamlines complex computations and enhances the ability to extract meaningful insights and patterns from large datasets.\n",
        "\n",
        "**Data Representation**\n",
        "\n",
        "1. Scalar : scalar is a single numerical value.\n",
        "2. Vectors : An ordered list of numbers arranged in a single row or column.\n",
        "3. Matrices : A 2D grid of numbers with rows and columns.\n",
        "4. Tensors : A generalization of vectors and matrices to more than 2 dimensions (ND array).\n"
      ],
      "metadata": {
        "id": "O7jfjf5sa6n0"
      }
    },
    {
      "cell_type": "markdown",
      "source": [
        "**Scalar**"
      ],
      "metadata": {
        "id": "8CN5xtfkeQ31"
      }
    },
    {
      "cell_type": "code",
      "source": [
        "# Example\n",
        "x = 5\n",
        "# Shape: No dimensions (0D)\n",
        "# Usage: Represents a single measurement like temperature, weight, etc."
      ],
      "metadata": {
        "id": "xId__-sYeU8d"
      },
      "execution_count": 4,
      "outputs": []
    },
    {
      "cell_type": "code",
      "source": [
        "# Python Equivalent\n",
        "import numpy as np\n",
        "scalar = np.array(x)\n",
        "print(\"Scalar Value\", scalar)\n",
        "print(\"Shape:\", scalar.shape)\n",
        "print(\"Dimension:\", scalar.ndim)"
      ],
      "metadata": {
        "colab": {
          "base_uri": "https://localhost:8080/"
        },
        "id": "gSJH-IwUeq1e",
        "outputId": "c062ab3b-c44f-46f0-b326-f48539845b4a"
      },
      "execution_count": 6,
      "outputs": [
        {
          "output_type": "stream",
          "name": "stdout",
          "text": [
            "Scalar Value 5\n",
            "Shape: ()\n",
            "Dimension: 0\n"
          ]
        }
      ]
    },
    {
      "cell_type": "markdown",
      "source": [
        "**Vector**"
      ],
      "metadata": {
        "id": "-4X7PQXHfAZZ"
      }
    },
    {
      "cell_type": "code",
      "source": [
        "# Example\n",
        "x_row = [[10, 20, 30]]\n",
        "x_column = [[1], [2], [3]]\n",
        "# Shape: (1, 3) row with 3 elements (not a matrix!). or (3, 1) column with 3 elements.\n",
        "# Useage: Represent features of a single data point (like [height, weight, age])."
      ],
      "metadata": {
        "id": "WUvs-J5nfCPb"
      },
      "execution_count": 15,
      "outputs": []
    },
    {
      "cell_type": "code",
      "source": [
        "# Python Equivalent\n",
        "row_vector = np.array(x_row)\n",
        "column_vector = np.array(x_column)\n",
        "print(\"Row Vector: {}, \\nColumn Vector: {}\".format(row_vector, column_vector))\n",
        "print(\"Row Vector Shape:{}, Column Vector Shape:{}\".format(row_vector.shape, column_vector.shape))\n",
        "print(\"Row Vector Dimension:{}, Column Vector Dimension:{}\".format(row_vector.ndim, column_vector.ndim))"
      ],
      "metadata": {
        "colab": {
          "base_uri": "https://localhost:8080/"
        },
        "id": "0nXibraMfx3J",
        "outputId": "fc6a106b-2ca4-46c1-a398-6969f21cd8f0"
      },
      "execution_count": 16,
      "outputs": [
        {
          "output_type": "stream",
          "name": "stdout",
          "text": [
            "Row Vector: [[10 20 30]], \n",
            "Column Vector: [[1]\n",
            " [2]\n",
            " [3]]\n",
            "Row Vector Shape:(1, 3), Column Vector Shape:(3, 1)\n",
            "Row Vector Dimension:2, Column Vector Dimension:2\n"
          ]
        }
      ]
    },
    {
      "cell_type": "markdown",
      "source": [
        "**Matrices**"
      ],
      "metadata": {
        "id": "9ZsRsBxbhQmt"
      }
    },
    {
      "cell_type": "code",
      "source": [
        "# Example\n",
        "x_matrix = [[1, 2, 3], [4, 5, 6]]\n",
        "# Shape: 2D (rows × columns)\n",
        "# Useage: Represent multiple data points with multiple features (like a dataset with rows as examples and columns as features)"
      ],
      "metadata": {
        "id": "2ezrvP1YhSly"
      },
      "execution_count": 17,
      "outputs": []
    },
    {
      "cell_type": "code",
      "source": [
        "# Python Equivalent\n",
        "matrix = np.array(x_matrix)\n",
        "print(\"Matrix Value:\", matrix)\n",
        "print(\"Matrix Shape:\", matrix.shape)\n",
        "print(\"Matrix Dimension:\", matrix.ndim)"
      ],
      "metadata": {
        "colab": {
          "base_uri": "https://localhost:8080/"
        },
        "id": "oZfhMJcyhzzk",
        "outputId": "b9108e6c-9b64-491e-e71b-7188665d4d3b"
      },
      "execution_count": 19,
      "outputs": [
        {
          "output_type": "stream",
          "name": "stdout",
          "text": [
            "Matrix Value: [[1 2 3]\n",
            " [4 5 6]]\n",
            "Matrix Shape: (2, 3)\n",
            "Matrix Dimension: 2\n"
          ]
        }
      ]
    },
    {
      "cell_type": "markdown",
      "source": [
        "**Tensors**"
      ],
      "metadata": {
        "id": "SppR-YckiYsj"
      }
    },
    {
      "cell_type": "code",
      "source": [
        "# Example\n",
        "x_tensor = [\n",
        "    [[1, 2], [3, 4]],\n",
        "    [[5, 6], [7, 8]]\n",
        "]\n",
        "# Shape: 3D or higher.\n",
        "# Useage:\n",
        "#  1. Images (Color images: 3D tensor – height × width × channels)\n",
        "#  2. Video (4D tensor – frames × height × width × channels)\n",
        "#  3. Deep learning models: Inputs, weights, and activations are often tensors"
      ],
      "metadata": {
        "id": "Fx7zQ_h7iaRV"
      },
      "execution_count": 20,
      "outputs": []
    },
    {
      "cell_type": "code",
      "source": [
        "# Python Equivalent\n",
        "tensor_3d = np.array(x_tensor)\n",
        "print(\"Tensor Value:\", tensor_3d)\n",
        "print(\"Tensor Shape:\", tensor_3d.shape)\n",
        "print(\"Tensor Dimension:\", tensor_3d.ndim)"
      ],
      "metadata": {
        "colab": {
          "base_uri": "https://localhost:8080/"
        },
        "id": "_hgvWvqoi9KM",
        "outputId": "603f27d6-52c2-4393-91ab-009a62fdbd37"
      },
      "execution_count": 21,
      "outputs": [
        {
          "output_type": "stream",
          "name": "stdout",
          "text": [
            "Tensor Value: [[[1 2]\n",
            "  [3 4]]\n",
            "\n",
            " [[5 6]\n",
            "  [7 8]]]\n",
            "Tensor Shape: (2, 2, 2)\n",
            "Tensor Dimension: 3\n"
          ]
        }
      ]
    },
    {
      "cell_type": "markdown",
      "source": [
        "# Summary\n",
        "\n",
        "| Data Type | NumPy Equivalent             | Shape Example   | Dimension | Notes                       |\n",
        "| --------- | ---------------------------- | --------------- | --------- | --------------------------- |\n",
        "| Scalar    | `np.array(5)`                | `()`            | 0         | Just a number               |\n",
        "| Vector    | `np.array([1, 2, 3])`        | `(3,)`          | 1         | Ordered list                |\n",
        "| Matrix    | `np.array([[1, 2], [3, 4]])` | `(2, 2)`        | 2         | Rows & columns              |\n",
        "| 3D Tensor | `np.array([[[...]]])`        | `(2, 3, 4)`     | 3         | Stack of matrices           |\n",
        "| ND Tensor | `np.random.rand(*shape)`     | `(d1, d2, ...)` | N         | N ≥ 3 (e.g. images, videos) |\n"
      ],
      "metadata": {
        "id": "u1TlYFUgjqVU"
      }
    },
    {
      "cell_type": "markdown",
      "source": [
        "| Type    | Dimension | Shape Example | NumPy Example                          | ML Usage                                |\n",
        "|---------|-----------|---------------|----------------------------------------|-----------------------------------------|\n",
        "| Scalar  | 0D        | `()`          | `np.array(5)`                          | Learning rate, loss, bias               |\n",
        "| Vector  | 1D        | `(3,)`        | `np.array([5, 6, 7])`                  | Feature vector, word embedding, weights |\n",
        "| Matrix  | 2D        | `(2, 3)`      | `np.array([[1, 2, 3], [4, 5, 6]])`     | Dataset, weights between NN layers      |\n",
        "| Tensor  | 3D+       | `(2, 2, 2)`   | `np.array([[[1,2],[3,4]],[[5,6],[7,8]]])` | Images, sequences, videos           |"
      ],
      "metadata": {
        "id": "2V6DertXkDrf"
      }
    }
  ]
}